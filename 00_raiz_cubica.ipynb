{
 "cells": [
  {
   "cell_type": "markdown",
   "id": "40cb874e",
   "metadata": {},
   "source": [
    "# Raiz Cúbica"
   ]
  },
  {
   "cell_type": "code",
   "execution_count": 6,
   "id": "e3edc3aa",
   "metadata": {},
   "outputs": [],
   "source": [
    "def raiz_cubica(numero):\n",
    "    '''\n",
    "    Função para extrair a raiz cúbica de um número\n",
    "    '''\n",
    "    import math\n",
    "    a = math.pow(numero, (1/3))\n",
    "    print(f\"A raiz cúbica de {numero} é: {round(a, 6)}\")"
   ]
  },
  {
   "cell_type": "code",
   "execution_count": 8,
   "id": "50ae4072",
   "metadata": {},
   "outputs": [
    {
     "name": "stdout",
     "output_type": "stream",
     "text": [
      "A raiz cúbica de 27 é 3.0\n"
     ]
    }
   ],
   "source": [
    "raiz_cubica(27)"
   ]
  },
  {
   "cell_type": "code",
   "execution_count": 9,
   "id": "ee349590",
   "metadata": {},
   "outputs": [
    {
     "name": "stdout",
     "output_type": "stream",
     "text": [
      "A raiz cúbica de 81 é 4.326749\n"
     ]
    }
   ],
   "source": [
    "raiz_cubica(81)"
   ]
  },
  {
   "cell_type": "code",
   "execution_count": 10,
   "id": "e18a5e21",
   "metadata": {},
   "outputs": [
    {
     "name": "stdout",
     "output_type": "stream",
     "text": [
      "A raiz cúbica de 1024 é 10.079368\n"
     ]
    }
   ],
   "source": [
    "raiz_cubica(1024)"
   ]
  },
  {
   "cell_type": "markdown",
   "id": "9a22d678",
   "metadata": {},
   "source": [
    "## Uma solução melhor"
   ]
  },
  {
   "cell_type": "code",
   "execution_count": 1,
   "id": "fbec7d1b",
   "metadata": {},
   "outputs": [],
   "source": [
    "def raiz_3(numero):\n",
    "    import numpy as np\n",
    "    a = np.cbrt(numero)\n",
    "    print(f\"A raiz cúbica de {numero} é: {round(a, 6)}\")"
   ]
  },
  {
   "cell_type": "code",
   "execution_count": 2,
   "id": "23e6d7d3",
   "metadata": {},
   "outputs": [
    {
     "name": "stdout",
     "output_type": "stream",
     "text": [
      "A raiz cúbica de 64 é: 4.0\n"
     ]
    }
   ],
   "source": [
    "raiz_3(64)"
   ]
  },
  {
   "cell_type": "code",
   "execution_count": 3,
   "id": "4156495e",
   "metadata": {},
   "outputs": [
    {
     "name": "stdout",
     "output_type": "stream",
     "text": [
      "A raiz cúbica de -64 é: -4.0\n"
     ]
    }
   ],
   "source": [
    "raiz_3(-64)"
   ]
  }
 ],
 "metadata": {
  "kernelspec": {
   "display_name": "Python 3 (ipykernel)",
   "language": "python",
   "name": "python3"
  },
  "language_info": {
   "codemirror_mode": {
    "name": "ipython",
    "version": 3
   },
   "file_extension": ".py",
   "mimetype": "text/x-python",
   "name": "python",
   "nbconvert_exporter": "python",
   "pygments_lexer": "ipython3",
   "version": "3.11.3"
  }
 },
 "nbformat": 4,
 "nbformat_minor": 5
}
