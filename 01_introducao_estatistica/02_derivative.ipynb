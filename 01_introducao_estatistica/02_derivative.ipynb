{
 "cells": [
  {
   "cell_type": "code",
   "execution_count": 1,
   "id": "f0200281",
   "metadata": {},
   "outputs": [],
   "source": [
    "from sympy import *"
   ]
  },
  {
   "cell_type": "code",
   "execution_count": 2,
   "id": "3e44d182",
   "metadata": {},
   "outputs": [],
   "source": [
    "# Primeiro cria-se a variável X\n",
    "x = Symbol('x')"
   ]
  },
  {
   "cell_type": "code",
   "execution_count": 9,
   "id": "8ca9629b",
   "metadata": {},
   "outputs": [],
   "source": [
    "# Depois escreva a função\n",
    "\n",
    "# f = (2* x**7) + (3* x**4) - (2* x**2)\n",
    "f = 2 * x **3"
   ]
  },
  {
   "cell_type": "code",
   "execution_count": 10,
   "id": "1943d8db",
   "metadata": {},
   "outputs": [],
   "source": [
    "# f_prime é a derivada da função que passa pela função diff que calcula a derivação\n",
    "\n",
    "f_prime = f.diff(x)"
   ]
  },
  {
   "cell_type": "code",
   "execution_count": 11,
   "id": "5c5c3b16",
   "metadata": {},
   "outputs": [
    {
     "data": {
      "text/latex": [
       "$\\displaystyle 6 x^{2}$"
      ],
      "text/plain": [
       "6*x**2"
      ]
     },
     "execution_count": 11,
     "metadata": {},
     "output_type": "execute_result"
    }
   ],
   "source": [
    "f_prime"
   ]
  },
  {
   "cell_type": "code",
   "execution_count": 12,
   "id": "18b1ab90",
   "metadata": {},
   "outputs": [],
   "source": [
    "f = lambdify(x, f)"
   ]
  },
  {
   "cell_type": "code",
   "execution_count": 13,
   "id": "c4febdf9",
   "metadata": {},
   "outputs": [
    {
     "data": {
      "text/plain": [
       "54"
      ]
     },
     "execution_count": 13,
     "metadata": {},
     "output_type": "execute_result"
    }
   ],
   "source": [
    "f_prime = lambdify(x, f_prime)\n",
    "f(3)\n",
    "f_prime(3)"
   ]
  },
  {
   "cell_type": "code",
   "execution_count": 14,
   "id": "e58d02a3",
   "metadata": {},
   "outputs": [
    {
     "name": "stdout",
     "output_type": "stream",
     "text": [
      "Help on function diff in module sympy.core.function:\n",
      "\n",
      "diff(f, *symbols, **kwargs)\n",
      "    Differentiate f with respect to symbols.\n",
      "    \n",
      "    Explanation\n",
      "    ===========\n",
      "    \n",
      "    This is just a wrapper to unify .diff() and the Derivative class; its\n",
      "    interface is similar to that of integrate().  You can use the same\n",
      "    shortcuts for multiple variables as with Derivative.  For example,\n",
      "    diff(f(x), x, x, x) and diff(f(x), x, 3) both return the third derivative\n",
      "    of f(x).\n",
      "    \n",
      "    You can pass evaluate=False to get an unevaluated Derivative class.  Note\n",
      "    that if there are 0 symbols (such as diff(f(x), x, 0), then the result will\n",
      "    be the function (the zeroth derivative), even if evaluate=False.\n",
      "    \n",
      "    Examples\n",
      "    ========\n",
      "    \n",
      "    >>> from sympy import sin, cos, Function, diff\n",
      "    >>> from sympy.abc import x, y\n",
      "    >>> f = Function('f')\n",
      "    \n",
      "    >>> diff(sin(x), x)\n",
      "    cos(x)\n",
      "    >>> diff(f(x), x, x, x)\n",
      "    Derivative(f(x), (x, 3))\n",
      "    >>> diff(f(x), x, 3)\n",
      "    Derivative(f(x), (x, 3))\n",
      "    >>> diff(sin(x)*cos(y), x, 2, y, 2)\n",
      "    sin(x)*cos(y)\n",
      "    \n",
      "    >>> type(diff(sin(x), x))\n",
      "    cos\n",
      "    >>> type(diff(sin(x), x, evaluate=False))\n",
      "    <class 'sympy.core.function.Derivative'>\n",
      "    >>> type(diff(sin(x), x, 0))\n",
      "    sin\n",
      "    >>> type(diff(sin(x), x, 0, evaluate=False))\n",
      "    sin\n",
      "    \n",
      "    >>> diff(sin(x))\n",
      "    cos(x)\n",
      "    >>> diff(sin(x*y))\n",
      "    Traceback (most recent call last):\n",
      "    ...\n",
      "    ValueError: specify differentiation variables to differentiate sin(x*y)\n",
      "    \n",
      "    Note that ``diff(sin(x))`` syntax is meant only for convenience\n",
      "    in interactive sessions and should be avoided in library code.\n",
      "    \n",
      "    References\n",
      "    ==========\n",
      "    \n",
      "    .. [1] http://reference.wolfram.com/legacy/v5_2/Built-inFunctions/AlgebraicComputation/Calculus/D.html\n",
      "    \n",
      "    See Also\n",
      "    ========\n",
      "    \n",
      "    Derivative\n",
      "    idiff: computes the derivative implicitly\n",
      "\n"
     ]
    }
   ],
   "source": [
    "help(diff)"
   ]
  },
  {
   "cell_type": "code",
   "execution_count": null,
   "id": "98f4ee03",
   "metadata": {},
   "outputs": [],
   "source": []
  }
 ],
 "metadata": {
  "kernelspec": {
   "display_name": "Python 3 (ipykernel)",
   "language": "python",
   "name": "python3"
  },
  "language_info": {
   "codemirror_mode": {
    "name": "ipython",
    "version": 3
   },
   "file_extension": ".py",
   "mimetype": "text/x-python",
   "name": "python",
   "nbconvert_exporter": "python",
   "pygments_lexer": "ipython3",
   "version": "3.11.3"
  }
 },
 "nbformat": 4,
 "nbformat_minor": 5
}
