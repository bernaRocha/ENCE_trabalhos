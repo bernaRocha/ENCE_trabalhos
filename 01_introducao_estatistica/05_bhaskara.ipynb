{
 "cells": [
  {
   "cell_type": "markdown",
   "id": "8f010891-0c46-4c57-8eed-0dfc510e4668",
   "metadata": {},
   "source": [
    "# Fórmula de Bhaskara"
   ]
  },
  {
   "cell_type": "code",
   "execution_count": 13,
   "id": "7b3b14bc-686e-4021-86f3-fcd8bfb613e6",
   "metadata": {},
   "outputs": [],
   "source": [
    "def bhaskara(a, b, c):\n",
    "    \"\"\"\n",
    "    a, b e c são os coeficientes da equação do segundo grau a ser calculado as raízes\n",
    "    \"\"\"\n",
    "    import math\n",
    "    delta = b ** 2 - (4 * a * c)\n",
    "    x1 = - b + math.sqrt(delta)\n",
    "    x2 = - b - math.sqrt(delta)\n",
    "    return x1, x2"
   ]
  },
  {
   "cell_type": "code",
   "execution_count": 15,
   "id": "3b4163b9-794f-47a3-8e1a-0d02364ce5d1",
   "metadata": {},
   "outputs": [
    {
     "data": {
      "text/plain": [
       "(6.0, 2.0)"
      ]
     },
     "execution_count": 15,
     "metadata": {},
     "output_type": "execute_result"
    }
   ],
   "source": [
    "bhaskara(1, -4, 3)"
   ]
  },
  {
   "cell_type": "code",
   "execution_count": 16,
   "id": "e8193c3a-60af-4db7-baa4-a089aec9046c",
   "metadata": {},
   "outputs": [
    {
     "data": {
      "text/plain": [
       "(2.0, -6.0)"
      ]
     },
     "execution_count": 16,
     "metadata": {},
     "output_type": "execute_result"
    }
   ],
   "source": [
    "bhaskara(1, 2, -3)"
   ]
  }
 ],
 "metadata": {
  "kernelspec": {
   "display_name": "Python 3 (ipykernel)",
   "language": "python",
   "name": "python3"
  },
  "language_info": {
   "codemirror_mode": {
    "name": "ipython",
    "version": 3
   },
   "file_extension": ".py",
   "mimetype": "text/x-python",
   "name": "python",
   "nbconvert_exporter": "python",
   "pygments_lexer": "ipython3",
   "version": "3.12.2"
  }
 },
 "nbformat": 4,
 "nbformat_minor": 5
}
