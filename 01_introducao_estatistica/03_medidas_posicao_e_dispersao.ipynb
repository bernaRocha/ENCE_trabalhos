{
 "cells": [
  {
   "cell_type": "code",
   "execution_count": null,
   "id": "927083e5-8fc7-40fb-b148-ca94c7d29b06",
   "metadata": {},
   "outputs": [],
   "source": [
    "import pandas as pd\n",
    "import numpy as np\n",
    "import random"
   ]
  },
  {
   "cell_type": "markdown",
   "id": "19a1e699-f854-44d8-bee9-23c3a5425f94",
   "metadata": {},
   "source": [
    "## Medidas de posição"
   ]
  },
  {
   "cell_type": "code",
   "execution_count": 102,
   "id": "dececca5-e635-4224-b121-e7f102744755",
   "metadata": {},
   "outputs": [
    {
     "name": "stdout",
     "output_type": "stream",
     "text": [
      "Lista com 90 números entre 1 e 10:\n",
      "[5, 3, 4, 1, 4, 2, 3, 7, 6, 3, 9, 6, 6, 4, 3, 4, 9, 4, 2, 7, 5, 8, 8, 7, 6, 2, 3, 1, 8, 8, 6, 7, 7, 1, 6, 3, 9, 6, 3, 9, 7, 8, 3, 8, 3, 8, 9, 10, 9, 1, 2, 2, 9, 1, 8, 7, 4, 3, 3, 4, 10, 10, 10, 8, 8, 3, 8, 8, 5, 6, 8, 4, 8, 8, 4, 2, 4, 4, 1, 1, 9, 1, 7, 2, 5, 8, 10, 10, 6, 8]\n",
      "\n",
      "Lista com 10 números entre 300 e 700:\n",
      "[658, 446, 456, 346, 502, 564, 576, 398, 345, 652]\n"
     ]
    }
   ],
   "source": [
    "# Lista com 90 números entre 1 e 10\n",
    "lista_1_10 = [random.randint(1, 10) for _ in range(90)]\n",
    "\n",
    "# Lista com 10 números entre 300 e 700\n",
    "lista_300_700 = [random.randint(300, 700) for _ in range(10)]\n",
    "\n",
    "print(\"Lista com 90 números entre 1 e 10:\")\n",
    "print(lista_1_10)\n",
    "\n",
    "print(\"\\nLista com 10 números entre 300 e 700:\")\n",
    "print(lista_300_700)"
   ]
  },
  {
   "cell_type": "code",
   "execution_count": 105,
   "id": "805c2e28-46d6-45fb-94ed-6819835dd8ce",
   "metadata": {},
   "outputs": [],
   "source": [
    "lista = np.concatenate((lista_1_10, lista_300_700))"
   ]
  },
  {
   "cell_type": "code",
   "execution_count": 106,
   "id": "15cd8e4e-300a-4a8d-8173-8430de17c2a2",
   "metadata": {
    "scrolled": true
   },
   "outputs": [
    {
     "data": {
      "text/plain": [
       "array([  5,   3,   4,   1,   4,   2,   3,   7,   6,   3,   9,   6,   6,\n",
       "         4,   3,   4,   9,   4,   2,   7,   5,   8,   8,   7,   6,   2,\n",
       "         3,   1,   8,   8,   6,   7,   7,   1,   6,   3,   9,   6,   3,\n",
       "         9,   7,   8,   3,   8,   3,   8,   9,  10,   9,   1,   2,   2,\n",
       "         9,   1,   8,   7,   4,   3,   3,   4,  10,  10,  10,   8,   8,\n",
       "         3,   8,   8,   5,   6,   8,   4,   8,   8,   4,   2,   4,   4,\n",
       "         1,   1,   9,   1,   7,   2,   5,   8,  10,  10,   6,   8, 658,\n",
       "       446, 456, 346, 502, 564, 576, 398, 345, 652])"
      ]
     },
     "execution_count": 106,
     "metadata": {},
     "output_type": "execute_result"
    }
   ],
   "source": [
    "lista"
   ]
  },
  {
   "cell_type": "markdown",
   "id": "dc3c865e-2aa2-431a-ae58-5c03b7dd2a46",
   "metadata": {},
   "source": [
    "### Para transformar a lista em um dataframe\n",
    "df = pd.DataFrame(list)"
   ]
  },
  {
   "cell_type": "code",
   "execution_count": 107,
   "id": "561ba960-bf8b-481b-9d80-f0d6586084fa",
   "metadata": {},
   "outputs": [
    {
     "data": {
      "text/html": [
       "<div>\n",
       "<style scoped>\n",
       "    .dataframe tbody tr th:only-of-type {\n",
       "        vertical-align: middle;\n",
       "    }\n",
       "\n",
       "    .dataframe tbody tr th {\n",
       "        vertical-align: top;\n",
       "    }\n",
       "\n",
       "    .dataframe thead th {\n",
       "        text-align: right;\n",
       "    }\n",
       "</style>\n",
       "<table border=\"1\" class=\"dataframe\">\n",
       "  <thead>\n",
       "    <tr style=\"text-align: right;\">\n",
       "      <th></th>\n",
       "      <th>numeros</th>\n",
       "    </tr>\n",
       "  </thead>\n",
       "  <tbody>\n",
       "    <tr>\n",
       "      <th>0</th>\n",
       "      <td>5</td>\n",
       "    </tr>\n",
       "    <tr>\n",
       "      <th>1</th>\n",
       "      <td>3</td>\n",
       "    </tr>\n",
       "    <tr>\n",
       "      <th>2</th>\n",
       "      <td>4</td>\n",
       "    </tr>\n",
       "    <tr>\n",
       "      <th>3</th>\n",
       "      <td>1</td>\n",
       "    </tr>\n",
       "    <tr>\n",
       "      <th>4</th>\n",
       "      <td>4</td>\n",
       "    </tr>\n",
       "    <tr>\n",
       "      <th>...</th>\n",
       "      <td>...</td>\n",
       "    </tr>\n",
       "    <tr>\n",
       "      <th>95</th>\n",
       "      <td>564</td>\n",
       "    </tr>\n",
       "    <tr>\n",
       "      <th>96</th>\n",
       "      <td>576</td>\n",
       "    </tr>\n",
       "    <tr>\n",
       "      <th>97</th>\n",
       "      <td>398</td>\n",
       "    </tr>\n",
       "    <tr>\n",
       "      <th>98</th>\n",
       "      <td>345</td>\n",
       "    </tr>\n",
       "    <tr>\n",
       "      <th>99</th>\n",
       "      <td>652</td>\n",
       "    </tr>\n",
       "  </tbody>\n",
       "</table>\n",
       "<p>100 rows × 1 columns</p>\n",
       "</div>"
      ],
      "text/plain": [
       "    numeros\n",
       "0         5\n",
       "1         3\n",
       "2         4\n",
       "3         1\n",
       "4         4\n",
       "..      ...\n",
       "95      564\n",
       "96      576\n",
       "97      398\n",
       "98      345\n",
       "99      652\n",
       "\n",
       "[100 rows x 1 columns]"
      ]
     },
     "execution_count": 107,
     "metadata": {},
     "output_type": "execute_result"
    }
   ],
   "source": [
    "df = pd.DataFrame({'numeros': lista})\n",
    "df"
   ]
  },
  {
   "cell_type": "code",
   "execution_count": 108,
   "id": "da2af81e-6fba-400d-a6ae-c0b53aaac1ee",
   "metadata": {
    "scrolled": true
   },
   "outputs": [
    {
     "name": "stdout",
     "output_type": "stream",
     "text": [
      "A média da lista é 54.43\n",
      "A mediana da lista é 6.0\n",
      "A moda da lista é 8\n"
     ]
    }
   ],
   "source": [
    "print(f\"A média da lista é {df.numeros.mean()}\")\n",
    "print(f\"A mediana da lista é {df.numeros.median()}\")\n",
    "print(f\"A moda da lista é {df.numeros.mode()[0]}\")"
   ]
  },
  {
   "cell_type": "code",
   "execution_count": 132,
   "id": "d90002b4-dc7b-4f09-85e4-1f95d9796b05",
   "metadata": {},
   "outputs": [
    {
     "name": "stdout",
     "output_type": "stream",
     "text": [
      "Quartil 1 = 3.0\n",
      "Quartil 2 / mediana = 6.0\n",
      "Quartil 3 = 8.0\n"
     ]
    }
   ],
   "source": [
    "print(f\"Quartil 1 = {df.numeros.quantile(0.25)}\")\n",
    "print(f\"Quartil 2 / mediana = {df.numeros.quantile(0.50)}\")\n",
    "print(f\"Quartil 3 = {df.numeros.quantile(0.75)}\")"
   ]
  },
  {
   "cell_type": "code",
   "execution_count": 117,
   "id": "648e6159-dd7b-4a2d-83e8-af135e64ec37",
   "metadata": {},
   "outputs": [
    {
     "name": "stdout",
     "output_type": "stream",
     "text": [
      "Valor mínimo: 1\n",
      "Valor mínimo: 658\n"
     ]
    }
   ],
   "source": [
    "print(f\"Valor mínimo: {df.numeros.min()}\")\n",
    "print(f\"Valor mínimo: {df.numeros.max()}\")"
   ]
  },
  {
   "cell_type": "code",
   "execution_count": 130,
   "id": "c9c47af9-2716-466d-beb4-5d19827d2679",
   "metadata": {},
   "outputs": [],
   "source": [
    "percentis = [0.10, 0.12, 0.20, 0.30, 0.40, 0.50, 0.60, 0.70, 0.80, 0.90, 0.92]"
   ]
  },
  {
   "cell_type": "code",
   "execution_count": 131,
   "id": "6ea52037-f2db-420f-a5b8-748cb4426b42",
   "metadata": {},
   "outputs": [
    {
     "data": {
      "text/plain": [
       "0.10      2.00\n",
       "0.12      2.00\n",
       "0.20      3.00\n",
       "0.30      4.00\n",
       "0.40      5.00\n",
       "0.50      6.00\n",
       "0.60      8.00\n",
       "0.70      8.00\n",
       "0.80      9.00\n",
       "0.90     43.50\n",
       "0.92    350.16\n",
       "Name: numeros, dtype: float64"
      ]
     },
     "execution_count": 131,
     "metadata": {},
     "output_type": "execute_result"
    }
   ],
   "source": [
    "percentis_result = df['numeros'].quantile(percentis)\n",
    "percentis_result"
   ]
  },
  {
   "cell_type": "markdown",
   "id": "6d39b814-37b1-4942-addb-9039cace10a6",
   "metadata": {},
   "source": [
    "## Medidas de dispersão"
   ]
  },
  {
   "cell_type": "code",
   "execution_count": 140,
   "id": "2dc99952-0c61-464c-9c11-837188ea6bdb",
   "metadata": {},
   "outputs": [
    {
     "name": "stdout",
     "output_type": "stream",
     "text": [
      "A amplitude da lista é = 657\n",
      "A distância inter-quartil = 5.0\n",
      "A variância é = 22940.914242424245\n",
      "O desvio padrão é = 151.46258363841628\n",
      "O coeficiente de variação é = 2.7827040903622318\n"
     ]
    }
   ],
   "source": [
    "print(f\"A amplitude da lista é = {df.numeros.max() - df.numeros.min()}\")\n",
    "print(f\"A distância inter-quartil = {df.numeros.quantile(0.75) - df.numeros.quantile(0.25)}\")\n",
    "print(f\"A variância é = {df.numeros.var()}\")\n",
    "print(f\"O desvio padrão é = {df.numeros.std()}\")\n",
    "print(f\"O coeficiente de variação é = {df.numeros.std() / df.numeros.mean()}\")"
   ]
  },
  {
   "cell_type": "markdown",
   "id": "3063a1b1-6fd9-4bed-b147-41ba386ed0db",
   "metadata": {},
   "source": [
    "### Assimetria"
   ]
  },
  {
   "cell_type": "code",
   "execution_count": 142,
   "id": "032ff1aa-f297-41c1-b346-3ce260e79623",
   "metadata": {},
   "outputs": [
    {
     "name": "stdout",
     "output_type": "stream",
     "text": [
      "Coeficiente de assimetria (skweness) é = 2.9698634150307326\n"
     ]
    }
   ],
   "source": [
    "print(f\"Coeficiente de assimetria (skweness) é = {df.numeros.skew()}\") "
   ]
  }
 ],
 "metadata": {
  "kernelspec": {
   "display_name": "Python 3 (ipykernel)",
   "language": "python",
   "name": "python3"
  },
  "language_info": {
   "codemirror_mode": {
    "name": "ipython",
    "version": 3
   },
   "file_extension": ".py",
   "mimetype": "text/x-python",
   "name": "python",
   "nbconvert_exporter": "python",
   "pygments_lexer": "ipython3",
   "version": "3.12.2"
  }
 },
 "nbformat": 4,
 "nbformat_minor": 5
}
