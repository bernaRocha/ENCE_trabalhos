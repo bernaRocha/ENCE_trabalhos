{
 "cells": [
  {
   "cell_type": "markdown",
   "id": "e6e774fa-afc5-42c9-82a4-cdced775a5d2",
   "metadata": {},
   "source": [
    "# 1ª Lista de Introdução à Estatística (Monitoria)"
   ]
  },
  {
   "cell_type": "markdown",
   "id": "90c74e7c-fa8f-4826-81fb-85b2fdd03604",
   "metadata": {},
   "source": [
    "<b>1)</b> Classifique as variáveis em qualitativa (nominal/ordinal) ou quantitativa\n",
    "(discreta/contínua) <br>\n",
    "\n",
    "a) Voto para representante de turma (nome de quem vai votar ou voto em branco). <br>\n",
    "\n",
    "-  qualitativa nominal<br>\n",
    "  \n",
    "b) Avaliação de um hotel em estrelas (valores de 1 a 5, onde 1 indica totalmente insatisfeito\n",
    "e 5 totalmente satisfeito). <br>\n",
    "\n",
    "- qualitativa ordinal<br>\n",
    "\n",
    "c) Nota de uma turma em uma determinada prova que vale 10 pontos. <br>\n",
    "\n",
    "- quantitiva contínua <br>\n",
    "\n",
    "d) Idade (em anos completos) de uma lista de convidados para um aniversário. <br>\n",
    "\n",
    "- quantitativa discreta <br>\n",
    "\n",
    "e) Lucro mensal de um comerciante durante o período de um ano. <br>\n",
    "\n",
    "- quantitativa contínua<br>\n",
    "\n",
    "f) Respostas de uma pesquisa sobre o uso de cigarro feita com estudantes do 9º ano do\n",
    "ensino fundamental. (Já usou cigarro? Sim ou não).<br>\n",
    "\n",
    "- qualitativa nominal<br>\n",
    "\n",
    "g) Bairro em que os funcionários de uma empresa residem.<br>\n",
    "\n",
    "- qualitativa nominal<br>\n",
    "\n",
    "h) Número crianças nascidas em um hospital durante uma semana. <br>\n",
    "\n",
    "- quantitativa discreta<br>\n",
    "\n",
    "i) Quantidade de gols em uma rodada do Brasileirão.<br>\n",
    "\n",
    "- quantitativa discreta<br>\n",
    "\n",
    "j) Cor dos olhos.<br>\n",
    "\n",
    "- qualitativa nominal<br>\n",
    "\n",
    "k) Peso dos produtos de uma indústria alimentícia. <br>\n",
    "\n",
    "- quantitativa contínua<br>\n",
    "\n",
    "l) Nível de escolaridade<br>\n",
    "\n",
    "- qualitativa ordinal"
   ]
  },
  {
   "cell_type": "markdown",
   "id": "bb902857-b8fb-4f14-a123-3f143587f8d2",
   "metadata": {},
   "source": [
    "<b>2)</b> Um motorista de aplicativo gostaria de saber se está sendo mais bem\n",
    "avaliado do que seu amigo. O aplicativo registrou que ele já recebeu 50\n",
    "avaliações. Dentre essas, recebeu 5 estrelas 22 vezes, 4 estrelas 21 vezes, 3\n",
    "estrelas 6 vezes e 1 estrela 1 vez. Já o seu amigo possui apenas 14\n",
    "avaliações; 6 de 5 estrelas, 7 de 4 estrelas e 1 de 3 estrelas. Faça uma tabela\n",
    "demonstrando as frequências absolutas e relativas e responda as seguintes\n",
    "questões:"
   ]
  },
  {
   "cell_type": "code",
   "execution_count": 20,
   "id": "e5b407b2-95b8-4a5f-bebd-0e77b2451b17",
   "metadata": {},
   "outputs": [],
   "source": [
    "import pandas as pd\n",
    "import seaborn as sns\n",
    "import matplotlib.pyplot as plt"
   ]
  },
  {
   "cell_type": "code",
   "execution_count": 4,
   "id": "4b384375-039f-4c94-bb21-76caf1dd9216",
   "metadata": {},
   "outputs": [],
   "source": [
    "dados = {\n",
    "    'motorista1' : [22, 21, 6, 0, 1, 50],\n",
    "    'motorista2' : [6, 7, 1, 0, 0,14],\n",
    "    'avaliacoes' : [5, 4, 3, 2, 1, 'total'] \n",
    "}"
   ]
  },
  {
   "cell_type": "code",
   "execution_count": 5,
   "id": "e0a6a96f-f66d-47a6-be3e-67d9d76d42a6",
   "metadata": {},
   "outputs": [
    {
     "data": {
      "text/html": [
       "<div>\n",
       "<style scoped>\n",
       "    .dataframe tbody tr th:only-of-type {\n",
       "        vertical-align: middle;\n",
       "    }\n",
       "\n",
       "    .dataframe tbody tr th {\n",
       "        vertical-align: top;\n",
       "    }\n",
       "\n",
       "    .dataframe thead th {\n",
       "        text-align: right;\n",
       "    }\n",
       "</style>\n",
       "<table border=\"1\" class=\"dataframe\">\n",
       "  <thead>\n",
       "    <tr style=\"text-align: right;\">\n",
       "      <th></th>\n",
       "      <th>motorista1</th>\n",
       "      <th>motorista2</th>\n",
       "      <th>avaliacoes</th>\n",
       "    </tr>\n",
       "  </thead>\n",
       "  <tbody>\n",
       "    <tr>\n",
       "      <th>0</th>\n",
       "      <td>22</td>\n",
       "      <td>6</td>\n",
       "      <td>5</td>\n",
       "    </tr>\n",
       "    <tr>\n",
       "      <th>1</th>\n",
       "      <td>21</td>\n",
       "      <td>7</td>\n",
       "      <td>4</td>\n",
       "    </tr>\n",
       "    <tr>\n",
       "      <th>2</th>\n",
       "      <td>6</td>\n",
       "      <td>1</td>\n",
       "      <td>3</td>\n",
       "    </tr>\n",
       "    <tr>\n",
       "      <th>3</th>\n",
       "      <td>0</td>\n",
       "      <td>0</td>\n",
       "      <td>2</td>\n",
       "    </tr>\n",
       "    <tr>\n",
       "      <th>4</th>\n",
       "      <td>1</td>\n",
       "      <td>0</td>\n",
       "      <td>1</td>\n",
       "    </tr>\n",
       "    <tr>\n",
       "      <th>5</th>\n",
       "      <td>50</td>\n",
       "      <td>14</td>\n",
       "      <td>total</td>\n",
       "    </tr>\n",
       "  </tbody>\n",
       "</table>\n",
       "</div>"
      ],
      "text/plain": [
       "   motorista1  motorista2 avaliacoes\n",
       "0          22           6          5\n",
       "1          21           7          4\n",
       "2           6           1          3\n",
       "3           0           0          2\n",
       "4           1           0          1\n",
       "5          50          14      total"
      ]
     },
     "execution_count": 5,
     "metadata": {},
     "output_type": "execute_result"
    }
   ],
   "source": [
    "df = pd.DataFrame(dados)\n",
    "df"
   ]
  },
  {
   "cell_type": "code",
   "execution_count": 6,
   "id": "b04674c9-f0d7-49ad-9e0a-ce689e2f9dc3",
   "metadata": {},
   "outputs": [
    {
     "data": {
      "text/html": [
       "<div>\n",
       "<style scoped>\n",
       "    .dataframe tbody tr th:only-of-type {\n",
       "        vertical-align: middle;\n",
       "    }\n",
       "\n",
       "    .dataframe tbody tr th {\n",
       "        vertical-align: top;\n",
       "    }\n",
       "\n",
       "    .dataframe thead th {\n",
       "        text-align: right;\n",
       "    }\n",
       "</style>\n",
       "<table border=\"1\" class=\"dataframe\">\n",
       "  <thead>\n",
       "    <tr style=\"text-align: right;\">\n",
       "      <th></th>\n",
       "      <th>motorista1</th>\n",
       "      <th>motorista2</th>\n",
       "    </tr>\n",
       "    <tr>\n",
       "      <th>avaliacoes</th>\n",
       "      <th></th>\n",
       "      <th></th>\n",
       "    </tr>\n",
       "  </thead>\n",
       "  <tbody>\n",
       "    <tr>\n",
       "      <th>5</th>\n",
       "      <td>22</td>\n",
       "      <td>6</td>\n",
       "    </tr>\n",
       "    <tr>\n",
       "      <th>4</th>\n",
       "      <td>21</td>\n",
       "      <td>7</td>\n",
       "    </tr>\n",
       "    <tr>\n",
       "      <th>3</th>\n",
       "      <td>6</td>\n",
       "      <td>1</td>\n",
       "    </tr>\n",
       "    <tr>\n",
       "      <th>2</th>\n",
       "      <td>0</td>\n",
       "      <td>0</td>\n",
       "    </tr>\n",
       "    <tr>\n",
       "      <th>1</th>\n",
       "      <td>1</td>\n",
       "      <td>0</td>\n",
       "    </tr>\n",
       "    <tr>\n",
       "      <th>total</th>\n",
       "      <td>50</td>\n",
       "      <td>14</td>\n",
       "    </tr>\n",
       "  </tbody>\n",
       "</table>\n",
       "</div>"
      ],
      "text/plain": [
       "            motorista1  motorista2\n",
       "avaliacoes                        \n",
       "5                   22           6\n",
       "4                   21           7\n",
       "3                    6           1\n",
       "2                    0           0\n",
       "1                    1           0\n",
       "total               50          14"
      ]
     },
     "execution_count": 6,
     "metadata": {},
     "output_type": "execute_result"
    }
   ],
   "source": [
    "df = df.set_index('avaliacoes')\n",
    "df"
   ]
  },
  {
   "cell_type": "code",
   "execution_count": 7,
   "id": "2b2a887d-d1e2-43c4-8093-4099029cac39",
   "metadata": {},
   "outputs": [],
   "source": [
    "novos_dados = {\n",
    "\n",
    "'frequencia_relativa_motorista_1' : [22/50, 21/50, 6/50, 0/50, 1/50, 1],\n",
    "'frequencia_relativa_motorista_2' : [6/14, 7/14, 1/14, 0/14, 0/14, 1]\n",
    "\n",
    "}"
   ]
  },
  {
   "cell_type": "code",
   "execution_count": 8,
   "id": "daf4d1a1-0f5b-43b9-a560-7c8563e3c2ad",
   "metadata": {},
   "outputs": [
    {
     "data": {
      "text/html": [
       "<div>\n",
       "<style scoped>\n",
       "    .dataframe tbody tr th:only-of-type {\n",
       "        vertical-align: middle;\n",
       "    }\n",
       "\n",
       "    .dataframe tbody tr th {\n",
       "        vertical-align: top;\n",
       "    }\n",
       "\n",
       "    .dataframe thead th {\n",
       "        text-align: right;\n",
       "    }\n",
       "</style>\n",
       "<table border=\"1\" class=\"dataframe\">\n",
       "  <thead>\n",
       "    <tr style=\"text-align: right;\">\n",
       "      <th></th>\n",
       "      <th>motorista1</th>\n",
       "      <th>motorista2</th>\n",
       "      <th>frequencia_relativa_motorista_1</th>\n",
       "      <th>frequencia_relativa_motorista_2</th>\n",
       "    </tr>\n",
       "    <tr>\n",
       "      <th>avaliacoes</th>\n",
       "      <th></th>\n",
       "      <th></th>\n",
       "      <th></th>\n",
       "      <th></th>\n",
       "    </tr>\n",
       "  </thead>\n",
       "  <tbody>\n",
       "    <tr>\n",
       "      <th>5</th>\n",
       "      <td>22</td>\n",
       "      <td>6</td>\n",
       "      <td>0.44</td>\n",
       "      <td>0.428571</td>\n",
       "    </tr>\n",
       "    <tr>\n",
       "      <th>4</th>\n",
       "      <td>21</td>\n",
       "      <td>7</td>\n",
       "      <td>0.42</td>\n",
       "      <td>0.500000</td>\n",
       "    </tr>\n",
       "    <tr>\n",
       "      <th>3</th>\n",
       "      <td>6</td>\n",
       "      <td>1</td>\n",
       "      <td>0.12</td>\n",
       "      <td>0.071429</td>\n",
       "    </tr>\n",
       "    <tr>\n",
       "      <th>2</th>\n",
       "      <td>0</td>\n",
       "      <td>0</td>\n",
       "      <td>0.00</td>\n",
       "      <td>0.000000</td>\n",
       "    </tr>\n",
       "    <tr>\n",
       "      <th>1</th>\n",
       "      <td>1</td>\n",
       "      <td>0</td>\n",
       "      <td>0.02</td>\n",
       "      <td>0.000000</td>\n",
       "    </tr>\n",
       "    <tr>\n",
       "      <th>total</th>\n",
       "      <td>50</td>\n",
       "      <td>14</td>\n",
       "      <td>1.00</td>\n",
       "      <td>1.000000</td>\n",
       "    </tr>\n",
       "  </tbody>\n",
       "</table>\n",
       "</div>"
      ],
      "text/plain": [
       "            motorista1  motorista2  frequencia_relativa_motorista_1  \\\n",
       "avaliacoes                                                            \n",
       "5                   22           6                             0.44   \n",
       "4                   21           7                             0.42   \n",
       "3                    6           1                             0.12   \n",
       "2                    0           0                             0.00   \n",
       "1                    1           0                             0.02   \n",
       "total               50          14                             1.00   \n",
       "\n",
       "            frequencia_relativa_motorista_2  \n",
       "avaliacoes                                   \n",
       "5                                  0.428571  \n",
       "4                                  0.500000  \n",
       "3                                  0.071429  \n",
       "2                                  0.000000  \n",
       "1                                  0.000000  \n",
       "total                              1.000000  "
      ]
     },
     "execution_count": 8,
     "metadata": {},
     "output_type": "execute_result"
    }
   ],
   "source": [
    "# Adicionar as novas variáveis ao DataFrame\n",
    "for coluna, valores in novos_dados.items():\n",
    "    df[coluna] = valores\n",
    "\n",
    "df"
   ]
  },
  {
   "cell_type": "markdown",
   "id": "9590b0b0-1f7f-4fbf-a6c1-308af02d2915",
   "metadata": {},
   "source": [
    "a) Represente em um gráfico de barras os resultados obtidos."
   ]
  },
  {
   "cell_type": "code",
   "execution_count": 24,
   "id": "4cc1d547-0658-4ac5-8d6e-7b92eb1e747a",
   "metadata": {},
   "outputs": [
    {
     "data": {
      "image/png": "[encoded data removed]",
      "text/plain": [
       "<Figure size 1000x500 with 2 Axes>"
      ]
     },
     "metadata": {},
     "output_type": "display_data"
    }
   ],
   "source": [
    "plt.figure(figsize=(10, 5))\n",
    "\n",
    "plt.subplot(1, 2, 1)  # Subploto 1\n",
    "sns.barplot(x='avaliacoes', y='frequencia_relativa_motorista_1', data=df)\n",
    "plt.title('Motorista 1 - Frequência relativa')\n",
    "\n",
    "plt.subplot(1, 2, 2)  # Subploto 2\n",
    "sns.barplot(x='avaliacoes', y='frequencia_relativa_motorista_2', data=df)\n",
    "plt.title('Motorista 2 - Frequência relativa')\n",
    "\n",
    "plt.tight_layout()\n",
    "plt.show()"
   ]
  },
  {
   "cell_type": "markdown",
   "id": "b6feb4f8-b72f-4471-b0fc-cd0f6f17e6b4",
   "metadata": {},
   "source": [
    "b) Qual dos dois possui a maior frequência absoluta de 5 estrelas? <br>\n",
    "\n",
    "- O motorista 1 com 22 avaliações 5"
   ]
  },
  {
   "cell_type": "markdown",
   "id": "8a278848-a0ea-4b4a-9853-7b23da913fa7",
   "metadata": {},
   "source": [
    "c) E frequência relativa? (em relação ao total) <br>\n",
    "\n",
    "- O motorista 1 tem 0.44 e o amigo tem 0.50"
   ]
  },
  {
   "cell_type": "markdown",
   "id": "22cf288d-2c87-4ba5-836a-2acbdcb5a3bc",
   "metadata": {},
   "source": [
    "d) Para o perfil disponibilizado aos usuários, este aplicativo apresenta uma avaliação média\n",
    "para cada motorista. Para melhor visualização, o resultado é arredondado para duas casas\n",
    "decimais. Calcule qual a média de estrelas obtida pelo primeiro motorista e seu amigo e\n",
    "responda quem foi mais bem avaliado no geral."
   ]
  },
  {
   "cell_type": "code",
   "execution_count": 24,
   "id": "9d4721c4-3b9b-4f40-943d-efd1ae796da9",
   "metadata": {},
   "outputs": [
    {
     "data": {
      "text/plain": [
       "4.26"
      ]
     },
     "execution_count": 24,
     "metadata": {},
     "output_type": "execute_result"
    }
   ],
   "source": [
    "media1 = (22 * 5 + 21 * 4 + 6 * 3 + 0 * 2 + 1 * 1) / 50\n",
    "media1"
   ]
  },
  {
   "cell_type": "code",
   "execution_count": 25,
   "id": "7c34f4b9-a335-4224-8113-e0ae00604140",
   "metadata": {},
   "outputs": [
    {
     "data": {
      "text/plain": [
       "4.357142857142857"
      ]
     },
     "execution_count": 25,
     "metadata": {},
     "output_type": "execute_result"
    }
   ],
   "source": [
    "media2 = (6 * 5 + 7 * 4 + 1 * 3 + 0 * 2 + 0 * 1) / 14\n",
    "media2"
   ]
  },
  {
   "cell_type": "markdown",
   "id": "7abd01ee-9931-4c5e-8a6d-3376405315ff",
   "metadata": {},
   "source": [
    "O amigo (motorista 2) teve uma média melhor"
   ]
  },
  {
   "cell_type": "markdown",
   "id": "4214a980-94f9-4504-b243-a23607bddeb0",
   "metadata": {},
   "source": [
    "<b>3)</b> Uma pesquisa com usuários de transporte coletivo na cidade de São Paulo\n",
    "indagou sobre os diferentes tipos usados nas suas locomoções diárias.\n",
    "Dentre ônibus, metrô e trem, o número de diferentes meios de transporte\n",
    "utilizados foi o seguinte: 2, 3 ,2, 1, 2, 1, 2, 1, 2, 3, 1, 1, 1, 2, 2, 3, 1, 1, 1, 1, 2,\n",
    "1, 1, 2, 2, 1, 2, 1, 2 e 3."
   ]
  },
  {
   "cell_type": "code",
   "execution_count": 26,
   "id": "7542c5fc-10f8-4b8c-8dde-f30663501dbf",
   "metadata": {},
   "outputs": [],
   "source": [
    "dados = {\n",
    "    'lista' : [2, 3 ,2, 1, 2, 1, 2, 1, 2, 3, 1, 1, 1, 2, 2, 3, 1, 1, 1, 1, 2,\n",
    "1, 1, 2, 2, 1, 2, 1, 2, 3]\n",
    "}"
   ]
  },
  {
   "cell_type": "code",
   "execution_count": 27,
   "id": "0df77642-2c2a-42f5-b076-87f2a2e13bb6",
   "metadata": {
    "scrolled": true
   },
   "outputs": [
    {
     "data": {
      "text/html": [
       "<div>\n",
       "<style scoped>\n",
       "    .dataframe tbody tr th:only-of-type {\n",
       "        vertical-align: middle;\n",
       "    }\n",
       "\n",
       "    .dataframe tbody tr th {\n",
       "        vertical-align: top;\n",
       "    }\n",
       "\n",
       "    .dataframe thead th {\n",
       "        text-align: right;\n",
       "    }\n",
       "</style>\n",
       "<table border=\"1\" class=\"dataframe\">\n",
       "  <thead>\n",
       "    <tr style=\"text-align: right;\">\n",
       "      <th></th>\n",
       "      <th>lista</th>\n",
       "    </tr>\n",
       "  </thead>\n",
       "  <tbody>\n",
       "    <tr>\n",
       "      <th>0</th>\n",
       "      <td>2</td>\n",
       "    </tr>\n",
       "    <tr>\n",
       "      <th>1</th>\n",
       "      <td>3</td>\n",
       "    </tr>\n",
       "    <tr>\n",
       "      <th>2</th>\n",
       "      <td>2</td>\n",
       "    </tr>\n",
       "    <tr>\n",
       "      <th>3</th>\n",
       "      <td>1</td>\n",
       "    </tr>\n",
       "    <tr>\n",
       "      <th>4</th>\n",
       "      <td>2</td>\n",
       "    </tr>\n",
       "    <tr>\n",
       "      <th>5</th>\n",
       "      <td>1</td>\n",
       "    </tr>\n",
       "    <tr>\n",
       "      <th>6</th>\n",
       "      <td>2</td>\n",
       "    </tr>\n",
       "    <tr>\n",
       "      <th>7</th>\n",
       "      <td>1</td>\n",
       "    </tr>\n",
       "    <tr>\n",
       "      <th>8</th>\n",
       "      <td>2</td>\n",
       "    </tr>\n",
       "    <tr>\n",
       "      <th>9</th>\n",
       "      <td>3</td>\n",
       "    </tr>\n",
       "    <tr>\n",
       "      <th>10</th>\n",
       "      <td>1</td>\n",
       "    </tr>\n",
       "    <tr>\n",
       "      <th>11</th>\n",
       "      <td>1</td>\n",
       "    </tr>\n",
       "    <tr>\n",
       "      <th>12</th>\n",
       "      <td>1</td>\n",
       "    </tr>\n",
       "    <tr>\n",
       "      <th>13</th>\n",
       "      <td>2</td>\n",
       "    </tr>\n",
       "    <tr>\n",
       "      <th>14</th>\n",
       "      <td>2</td>\n",
       "    </tr>\n",
       "    <tr>\n",
       "      <th>15</th>\n",
       "      <td>3</td>\n",
       "    </tr>\n",
       "    <tr>\n",
       "      <th>16</th>\n",
       "      <td>1</td>\n",
       "    </tr>\n",
       "    <tr>\n",
       "      <th>17</th>\n",
       "      <td>1</td>\n",
       "    </tr>\n",
       "    <tr>\n",
       "      <th>18</th>\n",
       "      <td>1</td>\n",
       "    </tr>\n",
       "    <tr>\n",
       "      <th>19</th>\n",
       "      <td>1</td>\n",
       "    </tr>\n",
       "    <tr>\n",
       "      <th>20</th>\n",
       "      <td>2</td>\n",
       "    </tr>\n",
       "    <tr>\n",
       "      <th>21</th>\n",
       "      <td>1</td>\n",
       "    </tr>\n",
       "    <tr>\n",
       "      <th>22</th>\n",
       "      <td>1</td>\n",
       "    </tr>\n",
       "    <tr>\n",
       "      <th>23</th>\n",
       "      <td>2</td>\n",
       "    </tr>\n",
       "    <tr>\n",
       "      <th>24</th>\n",
       "      <td>2</td>\n",
       "    </tr>\n",
       "    <tr>\n",
       "      <th>25</th>\n",
       "      <td>1</td>\n",
       "    </tr>\n",
       "    <tr>\n",
       "      <th>26</th>\n",
       "      <td>2</td>\n",
       "    </tr>\n",
       "    <tr>\n",
       "      <th>27</th>\n",
       "      <td>1</td>\n",
       "    </tr>\n",
       "    <tr>\n",
       "      <th>28</th>\n",
       "      <td>2</td>\n",
       "    </tr>\n",
       "    <tr>\n",
       "      <th>29</th>\n",
       "      <td>3</td>\n",
       "    </tr>\n",
       "  </tbody>\n",
       "</table>\n",
       "</div>"
      ],
      "text/plain": [
       "    lista\n",
       "0       2\n",
       "1       3\n",
       "2       2\n",
       "3       1\n",
       "4       2\n",
       "5       1\n",
       "6       2\n",
       "7       1\n",
       "8       2\n",
       "9       3\n",
       "10      1\n",
       "11      1\n",
       "12      1\n",
       "13      2\n",
       "14      2\n",
       "15      3\n",
       "16      1\n",
       "17      1\n",
       "18      1\n",
       "19      1\n",
       "20      2\n",
       "21      1\n",
       "22      1\n",
       "23      2\n",
       "24      2\n",
       "25      1\n",
       "26      2\n",
       "27      1\n",
       "28      2\n",
       "29      3"
      ]
     },
     "execution_count": 27,
     "metadata": {},
     "output_type": "execute_result"
    }
   ],
   "source": [
    "df2 = pd.DataFrame(dados)\n",
    "df2"
   ]
  },
  {
   "cell_type": "code",
   "execution_count": 29,
   "id": "971f76ec-7f82-4889-a290-9c5a6aa4b4ee",
   "metadata": {},
   "outputs": [
    {
     "data": {
      "image/png": "[encoded data removed]",
      "text/plain": [
       "<Figure size 640x480 with 1 Axes>"
      ]
     },
     "metadata": {},
     "output_type": "display_data"
    }
   ],
   "source": [
    "sns.countplot(df2, x=\"lista\", saturation = 0.75, width=0.7);"
   ]
  },
  {
   "cell_type": "markdown",
   "id": "442cb43f-7de1-42db-b1dc-69cfdde39fa8",
   "metadata": {},
   "source": [
    "c) Qual a porcentagem dos usuários que utilizam mais de um transporte público?"
   ]
  },
  {
   "cell_type": "code",
   "execution_count": 11,
   "id": "f1feb333-ac52-4ae6-8a34-33afd7fd6229",
   "metadata": {},
   "outputs": [
    {
     "name": "stdout",
     "output_type": "stream",
     "text": [
      "A porcentagem é: 53.33%\n"
     ]
    }
   ],
   "source": [
    "print(f\"A porcentagem é: {round((12 + 4)/ 30 * 100, 2)}%\")"
   ]
  },
  {
   "attachments": {
    "65a445d0-8eda-4bae-927f-fde5e3ab7327.png": {
     "image/png": "[encoded data removed]"
    }
   },
   "cell_type": "markdown",
   "id": "c0225277-1324-4f35-8276-4383258fb19e",
   "metadata": {},
   "source": [
    "<b>4)</b> Um grupo de pedagogos estuda a influência da troca de escolas no\n",
    "desempenho de alunos do ensino fundamental. Como parte do\n",
    "levantamento realizado, foi anotado o número de escolas cursadas pelos\n",
    "participantes do estudo.\n",
    "\n",
    "![image.png](attachment:65a445d0-8eda-4bae-927f-fde5e3ab7327.png)"
   ]
  },
  {
   "cell_type": "code",
   "execution_count": 32,
   "id": "e58ba29a-a778-4281-a30d-039a2e84509a",
   "metadata": {},
   "outputs": [],
   "source": [
    "grupo = {\n",
    "    'escolas' : [1, 2, 3, 4, 5],\n",
    "    'frequência' : [46, 57, 21, 15, 4]\n",
    "}"
   ]
  },
  {
   "cell_type": "code",
   "execution_count": 33,
   "id": "62851f45-fbda-43cf-b3e3-b09a40dfacfe",
   "metadata": {},
   "outputs": [
    {
     "data": {
      "text/html": [
       "<div>\n",
       "<style scoped>\n",
       "    .dataframe tbody tr th:only-of-type {\n",
       "        vertical-align: middle;\n",
       "    }\n",
       "\n",
       "    .dataframe tbody tr th {\n",
       "        vertical-align: top;\n",
       "    }\n",
       "\n",
       "    .dataframe thead th {\n",
       "        text-align: right;\n",
       "    }\n",
       "</style>\n",
       "<table border=\"1\" class=\"dataframe\">\n",
       "  <thead>\n",
       "    <tr style=\"text-align: right;\">\n",
       "      <th></th>\n",
       "      <th>escolas</th>\n",
       "      <th>frequência</th>\n",
       "    </tr>\n",
       "  </thead>\n",
       "  <tbody>\n",
       "    <tr>\n",
       "      <th>0</th>\n",
       "      <td>1</td>\n",
       "      <td>46</td>\n",
       "    </tr>\n",
       "    <tr>\n",
       "      <th>1</th>\n",
       "      <td>2</td>\n",
       "      <td>57</td>\n",
       "    </tr>\n",
       "    <tr>\n",
       "      <th>2</th>\n",
       "      <td>3</td>\n",
       "      <td>21</td>\n",
       "    </tr>\n",
       "    <tr>\n",
       "      <th>3</th>\n",
       "      <td>4</td>\n",
       "      <td>15</td>\n",
       "    </tr>\n",
       "    <tr>\n",
       "      <th>4</th>\n",
       "      <td>5</td>\n",
       "      <td>4</td>\n",
       "    </tr>\n",
       "  </tbody>\n",
       "</table>\n",
       "</div>"
      ],
      "text/plain": [
       "   escolas  frequência\n",
       "0        1          46\n",
       "1        2          57\n",
       "2        3          21\n",
       "3        4          15\n",
       "4        5           4"
      ]
     },
     "execution_count": 33,
     "metadata": {},
     "output_type": "execute_result"
    }
   ],
   "source": [
    "df4 = pd.DataFrame(grupo)\n",
    "df4"
   ]
  },
  {
   "cell_type": "markdown",
   "id": "132f7842-6cf4-4969-802f-e940af520522",
   "metadata": {},
   "source": [
    "a) Qual é a porcentagem dos alunos que cursaram mais de uma escola?"
   ]
  },
  {
   "cell_type": "code",
   "execution_count": 14,
   "id": "13b13353-fe32-4dc8-8adb-26ee037568a8",
   "metadata": {},
   "outputs": [
    {
     "name": "stdout",
     "output_type": "stream",
     "text": [
      "A porcentagem de alunos que cursaram mais de uma escola é: 67.83%\n"
     ]
    }
   ],
   "source": [
    "porcentagem = ((57 + 21 + 15 + 4) / df4.frequência.sum()) * 100\n",
    "print(f\"A porcentagem de alunos que cursaram mais de uma escola é: {round(porcentagem, 2)}%\")"
   ]
  },
  {
   "cell_type": "markdown",
   "id": "ed234a65-a196-4134-8d00-8ad88494ab03",
   "metadata": {},
   "source": [
    "b) Construa um gráfico de barras"
   ]
  },
  {
   "cell_type": "code",
   "execution_count": 35,
   "id": "bb81c3d6-6c86-492b-94b3-331a52c1ce9a",
   "metadata": {},
   "outputs": [
    {
     "data": {
      "image/png": "[encoded data removed]",
      "text/plain": [
       "<Figure size 640x480 with 1 Axes>"
      ]
     },
     "metadata": {},
     "output_type": "display_data"
    }
   ],
   "source": [
    "sns.barplot(df4, x=\"escolas\", y=\"frequência\");"
   ]
  },
  {
   "cell_type": "markdown",
   "id": "5b421374-9d8f-46ea-8602-1dc32684ef43",
   "metadata": {},
   "source": [
    "c) Classifique os alunos em dois grupos segundo a rotatividade: alta para alunos com mais de\n",
    "2 escolas e baixa para os demais. Obtenha a tabela de frequência dessa variável."
   ]
  },
  {
   "cell_type": "code",
   "execution_count": 40,
   "id": "a3772553-ef43-442d-83b7-10bdbc25bc0b",
   "metadata": {},
   "outputs": [
    {
     "data": {
      "text/plain": [
       "0.27972027972027974"
      ]
     },
     "execution_count": 40,
     "metadata": {},
     "output_type": "execute_result"
    }
   ],
   "source": [
    "40/143"
   ]
  },
  {
   "attachments": {
    "fcd12f61-db1f-44ca-94b3-e4ab9eacc3d6.png": {
     "image/png": "[encoded data removed]"
    }
   },
   "cell_type": "markdown",
   "id": "ef80cc7b-a1df-4e2b-884e-1f078423de77",
   "metadata": {},
   "source": [
    "<b>5)</b> Alunos da Escola de Educação Física foram submetidos a um teste de\n",
    "resistência quanto ao número de quilômetros que conseguiram correr sem\n",
    "parar. Os dados estão apresentados a seguir.\n",
    "\n",
    "![image.png](attachment:fcd12f61-db1f-44ca-94b3-e4ab9eacc3d6.png)"
   ]
  },
  {
   "cell_type": "markdown",
   "id": "f559b53f-ef9a-46b3-8bab-99777271829a",
   "metadata": {},
   "source": [
    "a) Qual é a variável de estudo? <br>\n",
    "\n",
    "- quilômetros percorridos sem parar <br>\n",
    "\n",
    "b) Determine os 1º, 2º e 3º quartis."
   ]
  },
  {
   "cell_type": "code",
   "execution_count": 15,
   "id": "1791516c-124d-4c99-8f70-b9fa549d726b",
   "metadata": {},
   "outputs": [
    {
     "data": {
      "text/plain": [
       "800"
      ]
     },
     "execution_count": 15,
     "metadata": {},
     "output_type": "execute_result"
    }
   ],
   "source": [
    "total = 438 + 206 + 125 + 22 + 9\n",
    "total"
   ]
  },
  {
   "cell_type": "code",
   "execution_count": 16,
   "id": "35361fbf-b95c-46b7-9b2e-7e9d9dbc8cd0",
   "metadata": {},
   "outputs": [],
   "source": [
    "a0_4 = 438 / 800\n",
    "a4_8 = 206 / 800\n",
    "a8_12 = 125 / 800\n",
    "a12_16 = 22 / 800\n",
    "a16_20 = 9 / 800"
   ]
  },
  {
   "cell_type": "code",
   "execution_count": 17,
   "id": "e1e1c822-c7de-4eb3-aae2-0244e330b10f",
   "metadata": {},
   "outputs": [
    {
     "name": "stdout",
     "output_type": "stream",
     "text": [
      "0.5475\n",
      "0.2575\n",
      "0.15625\n",
      "0.0275\n",
      "0.01125\n"
     ]
    }
   ],
   "source": [
    "print(a0_4) \n",
    "print(a4_8) \n",
    "print(a8_12) \n",
    "print(a12_16)\n",
    "print(a16_20)"
   ]
  },
  {
   "cell_type": "code",
   "execution_count": 18,
   "id": "f839a88b-3ea1-4ca6-b753-00bd274662a0",
   "metadata": {},
   "outputs": [
    {
     "data": {
      "text/plain": [
       "1.826"
      ]
     },
     "execution_count": 18,
     "metadata": {},
     "output_type": "execute_result"
    }
   ],
   "source": [
    "amplitude_classe = 4\n",
    "quartil1 = (amplitude_classe * 0.25) / a0_4\n",
    "round(quartil1, 3)"
   ]
  },
  {
   "cell_type": "code",
   "execution_count": 19,
   "id": "2b413d26-a720-4a9a-bb9f-58407c7422d6",
   "metadata": {},
   "outputs": [
    {
     "data": {
      "text/plain": [
       "3.653"
      ]
     },
     "execution_count": 19,
     "metadata": {},
     "output_type": "execute_result"
    }
   ],
   "source": [
    "quartil2 = (amplitude_classe * 0.5) / a0_4\n",
    "round(quartil2, 3)"
   ]
  },
  {
   "cell_type": "code",
   "execution_count": 20,
   "id": "d4fb12fb-dc82-42f7-9e06-f1295ddde3d2",
   "metadata": {},
   "outputs": [
    {
     "data": {
      "text/plain": [
       "7.153"
      ]
     },
     "execution_count": 20,
     "metadata": {},
     "output_type": "execute_result"
    }
   ],
   "source": [
    "quartil3 = (amplitude_classe * 0.203) / a4_8 + 4\n",
    "round(quartil3, 3)"
   ]
  }
 ],
 "metadata": {
  "kernelspec": {
   "display_name": "Python 3 (ipykernel)",
   "language": "python",
   "name": "python3"
  },
  "language_info": {
   "codemirror_mode": {
    "name": "ipython",
    "version": 3
   },
   "file_extension": ".py",
   "mimetype": "text/x-python",
   "name": "python",
   "nbconvert_exporter": "python",
   "pygments_lexer": "ipython3",
   "version": "3.12.2"
  }
 },
 "nbformat": 4,
 "nbformat_minor": 5
}
