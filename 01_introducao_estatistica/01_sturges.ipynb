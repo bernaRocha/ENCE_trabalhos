{
 "cells": [
  {
   "cell_type": "code",
   "execution_count": 18,
   "id": "c79ae8ca",
   "metadata": {},
   "outputs": [],
   "source": [
    "import math"
   ]
  },
  {
   "cell_type": "markdown",
   "id": "73c5ca5f",
   "metadata": {},
   "source": [
    "### Regra de Sturges"
   ]
  },
  {
   "cell_type": "code",
   "execution_count": 19,
   "id": "6c105d81",
   "metadata": {},
   "outputs": [
    {
     "name": "stdout",
     "output_type": "stream",
     "text": [
      "n é a quantidade de dados no data set\n",
      "Quantidade de classes: 6.643978354404254\n"
     ]
    }
   ],
   "source": [
    "print('n é a quantidade de dados no data set')\n",
    "\n",
    "n = 50\n",
    "\n",
    "k = 1 + (3.322 * math.log10(n))\n",
    "\n",
    "print(f'Quantidade de classes: {k}')"
   ]
  },
  {
   "cell_type": "code",
   "execution_count": null,
   "id": "01b1ed42",
   "metadata": {},
   "outputs": [],
   "source": []
  }
 ],
 "metadata": {
  "kernelspec": {
   "display_name": "Python 3 (ipykernel)",
   "language": "python",
   "name": "python3"
  },
  "language_info": {
   "codemirror_mode": {
    "name": "ipython",
    "version": 3
   },
   "file_extension": ".py",
   "mimetype": "text/x-python",
   "name": "python",
   "nbconvert_exporter": "python",
   "pygments_lexer": "ipython3",
   "version": "3.11.3"
  }
 },
 "nbformat": 4,
 "nbformat_minor": 5
}
