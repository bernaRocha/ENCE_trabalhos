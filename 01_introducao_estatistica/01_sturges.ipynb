{
 "cells": [
  {
   "cell_type": "code",
   "execution_count": 2,
   "id": "c79ae8ca",
   "metadata": {},
   "outputs": [],
   "source": [
    "import math"
   ]
  },
  {
   "cell_type": "markdown",
   "id": "73c5ca5f",
   "metadata": {},
   "source": [
    "### Regra de Sturges"
   ]
  },
  {
   "cell_type": "code",
   "execution_count": 5,
   "id": "6c105d81",
   "metadata": {},
   "outputs": [
    {
     "name": "stdout",
     "output_type": "stream",
     "text": [
      "n é a quantidade de dados no data set\n",
      "Para um dataset com 50 dados a quantidade de classes é: 6.64\n"
     ]
    }
   ],
   "source": [
    "print('n é a quantidade de dados no data set')\n",
    "\n",
    "n = 50\n",
    "\n",
    "k = 1 + (3.322 * math.log10(n))\n",
    "\n",
    "print(f'Para um dataset com {n} dados a quantidade de classes é: {round(k, 2)}')"
   ]
  },
  {
   "cell_type": "code",
   "execution_count": 8,
   "id": "95971dae",
   "metadata": {},
   "outputs": [
    {
     "name": "stdout",
     "output_type": "stream",
     "text": [
      "Outra forma de escrever a mesma fórmula\n"
     ]
    },
    {
     "data": {
      "text/plain": [
       "6.64"
      ]
     },
     "execution_count": 8,
     "metadata": {},
     "output_type": "execute_result"
    }
   ],
   "source": [
    "print(\"Outra forma de escrever a mesma fórmula\")\n",
    "\n",
    "n = 50\n",
    "classes = 1 + (math.log10(n)/math.log10(2))\n",
    "round(classes, 2)"
   ]
  },
  {
   "cell_type": "code",
   "execution_count": 7,
   "id": "fece7a2a",
   "metadata": {},
   "outputs": [
    {
     "data": {
      "text/plain": [
       "7.0710678118654755"
      ]
     },
     "execution_count": 7,
     "metadata": {},
     "output_type": "execute_result"
    }
   ],
   "source": [
    "math.sqrt(50)"
   ]
  }
 ],
 "metadata": {
  "kernelspec": {
   "display_name": "Python 3 (ipykernel)",
   "language": "python",
   "name": "python3"
  },
  "language_info": {
   "codemirror_mode": {
    "name": "ipython",
    "version": 3
   },
   "file_extension": ".py",
   "mimetype": "text/x-python",
   "name": "python",
   "nbconvert_exporter": "python",
   "pygments_lexer": "ipython3",
   "version": "3.11.3"
  }
 },
 "nbformat": 4,
 "nbformat_minor": 5
}
