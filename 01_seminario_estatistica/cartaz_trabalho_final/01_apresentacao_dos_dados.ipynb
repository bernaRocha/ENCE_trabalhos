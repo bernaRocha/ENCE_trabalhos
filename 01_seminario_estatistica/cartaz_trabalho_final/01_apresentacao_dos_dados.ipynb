{
 "cells": [
  {
   "cell_type": "markdown",
   "id": "832f3df9",
   "metadata": {},
   "source": [
    "# Comparação dos resultados do IDEB de Escolas Municipais localizadas em áreas com diferentes indicadores de segurança pública no Município do Rio de Janeiro - RJ \n",
    "\n",
    "Neste trabalho final da disciplina de Seminários de estatística, cursada em 2024.1, apresentamos essa análise, nestes notebooks temos o trabalho completo que está resumido no cartaz apresentado na Escola Nacional de Ciências Estatísticas (https://ence.ibge.gov.br/)\n",
    "\n",
    "## Motivação \n",
    "\n",
    "A responsabilidade pela disponibilização de educação infantil e do ensino fundamental é dos municípios, conforme preconiza a Constituição Federal em seu artigo 211.  \n",
    "\n",
    "Na cidade do Rio de janeiro, muitas escolas estão situadas em áreas com problemas de segurança pública.  \n",
    "\n",
    "Em ano de eleições municipais, pareceu-nos importante identificar se há relação da localização das escolas, se próximas ou não a áreas conflagradas, com os resultados obtidos com o IDEB (Índice de Desenvolvimento da Educação Básica). \n",
    "\n",
    "## Objetivo \n",
    "\n",
    "Identificar se há relação da localização das escolas, se próximas ou não a áreas conflagradas, com os resultados obtidos com o IDEB (Índice de Desenvolvimento da Educação Básica), no município do Rio de Janeiro-RJ. \n",
    "\n",
    "## População alvo \n",
    "\n",
    "IDEB de escolas localizadas no Município do Rio de Janeiro obtido através da aplicação do SAEB (Sistema de Avaliação da Educação Básica) em 2021. \n",
    "\n",
    "### Grupo:\n",
    "Anna Maria Scofano (202410091-03) <br>\n",
    "Bernardo Monteiro Rocha (202410221-26) <br> \n",
    "Viviane Bastos de Oliveira Moura (202411001-00) <br> \n",
    "Fernando Chahine Barros (202410631-59)"
   ]
  },
  {
   "cell_type": "code",
   "execution_count": null,
   "id": "b31471e3",
   "metadata": {},
   "outputs": [],
   "source": [
    "import pandas as pd"
   ]
  },
  {
   "cell_type": "markdown",
   "id": "a82234a5",
   "metadata": {},
   "source": [
    "Datasets do IDEB de 2021 baixados no link ( https://www.gov.br/inep/pt-br/areas-de-atuacao/pesquisas-estatisticas-e-indicadores/ideb/resultados ) em 14/06/2024, tratados no mesmo dia e posteriormente para o prosseguimento do trabalho."
   ]
  },
  {
   "cell_type": "code",
   "execution_count": null,
   "id": "21b428d4",
   "metadata": {},
   "outputs": [],
   "source": [
    "df_escolas_municipais = pd.read_excel('dados/Escolas_Municipais.xlsx')\n",
    "df_escolas_municipais.head()"
   ]
  },
  {
   "cell_type": "code",
   "execution_count": null,
   "id": "0618e97f",
   "metadata": {},
   "outputs": [],
   "source": [
    "df_com_RJ_IDEB_anos_finais_escolas_municipais = pd.read_excel('dados/RJ_com_IDEB_anos_finais_escolas_2021.xlsx')\n",
    "df_com_RJ_IDEB_anos_finais_escolas_municipais.head()"
   ]
  },
  {
   "cell_type": "code",
   "execution_count": null,
   "id": "8e9334c5",
   "metadata": {},
   "outputs": [],
   "source": [
    "df_com_RJ_IDEB_anos_finais_escolas_municipais.describe()"
   ]
  },
  {
   "cell_type": "code",
   "execution_count": null,
   "id": "31a58a6c",
   "metadata": {},
   "outputs": [],
   "source": [
    "df_RJ_com_IDEB_anos_iniciais_escolas_2021 = pd.read_excel('dados/RJ_com_IDEB_anos_iniciais_escolas_2021.xlsx')\n",
    "df_RJ_com_IDEB_anos_iniciais_escolas_2021.head()"
   ]
  },
  {
   "cell_type": "code",
   "execution_count": null,
   "id": "79dca2ff",
   "metadata": {},
   "outputs": [],
   "source": [
    "round(df_RJ_com_IDEB_anos_iniciais_escolas_2021.describe(), 2)"
   ]
  },
  {
   "cell_type": "markdown",
   "id": "654aa21a",
   "metadata": {},
   "source": [
    "###### Junção dos datset´s para prosseguimento do trabalho"
   ]
  },
  {
   "cell_type": "code",
   "execution_count": null,
   "id": "17ba6d99",
   "metadata": {},
   "outputs": [],
   "source": [
    "merged_df1_df2 = pd.merge(df_escolas_municipais, df_com_RJ_IDEB_anos_finais_escolas_municipais, on='Designação', how='outer')\n",
    "merged_df1_df2.head()"
   ]
  },
  {
   "cell_type": "code",
   "execution_count": null,
   "id": "aedd79cf",
   "metadata": {},
   "outputs": [],
   "source": [
    "merged_df = pd.merge(merged_df1_df2, df_RJ_com_IDEB_anos_iniciais_escolas_2021, on='Designação', how='outer')\n",
    "merged_df.head()"
   ]
  },
  {
   "cell_type": "markdown",
   "id": "21aac2bb",
   "metadata": {},
   "source": [
    "###### Salvando o dataset resultado para a análise"
   ]
  },
  {
   "cell_type": "code",
   "execution_count": null,
   "id": "c502a733",
   "metadata": {},
   "outputs": [],
   "source": [
    "merged_df.to_csv('dados/escolasRJ_com_IDEB_2021.csv')  "
   ]
  }
 ],
 "metadata": {
  "kernelspec": {
   "display_name": "Python 3 (ipykernel)",
   "language": "python",
   "name": "python3"
  },
  "language_info": {
   "codemirror_mode": {
    "name": "ipython",
    "version": 3
   },
   "file_extension": ".py",
   "mimetype": "text/x-python",
   "name": "python",
   "nbconvert_exporter": "python",
   "pygments_lexer": "ipython3",
   "version": "3.11.3"
  }
 },
 "nbformat": 4,
 "nbformat_minor": 5
}
