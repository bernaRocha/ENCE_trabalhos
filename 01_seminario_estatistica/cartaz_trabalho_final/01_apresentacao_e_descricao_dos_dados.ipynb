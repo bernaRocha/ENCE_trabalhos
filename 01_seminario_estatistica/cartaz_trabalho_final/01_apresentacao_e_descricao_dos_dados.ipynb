{
 "cells": [
  {
   "cell_type": "markdown",
   "id": "832f3df9",
   "metadata": {},
   "source": [
    "# Comparação dos resultados do IDEB de Escolas Municipais localizadas em áreas com diferentes indicadores de segurança pública no Município do Rio de Janeiro - RJ \n",
    "\n",
    "Neste trabalho final da disciplina de Seminários de estatística, cursada em 2024.1, apresentamos essa análise, nestes notebooks temos o trabalho completo que está resumido no cartaz apresentado na Escola Nacional de Ciências Estatísticas (https://ence.ibge.gov.br/)\n",
    "\n",
    "## Motivação \n",
    "\n",
    "A responsabilidade pela disponibilização de educação infantil e do ensino fundamental é dos municípios, conforme preconiza a Constituição Federal em seu artigo 211.  \n",
    "\n",
    "Na cidade do Rio de janeiro, muitas escolas estão situadas em áreas com problemas de segurança pública.  \n",
    "\n",
    "Em ano de eleições municipais, pareceu-nos importante identificar se há relação da localização das escolas, se próximas ou não a áreas conflagradas, com os resultados obtidos com o IDEB (Índice de Desenvolvimento da Educação Básica). \n",
    "\n",
    "## Objetivo \n",
    "\n",
    "Identificar se há relação da localização das escolas, se próximas ou não a áreas conflagradas, com os resultados obtidos com o IDEB (Índice de Desenvolvimento da Educação Básica), no município do Rio de Janeiro-RJ. \n",
    "\n",
    "## População alvo \n",
    "\n",
    "IDEB de escolas localizadas no Município do Rio de Janeiro obtido através da aplicação do SAEB (Sistema de Avaliação da Educação Básica) em 2021. \n",
    "\n",
    "### Grupo:\n",
    "Anna Maria Scofano (202410091-03) <br>\n",
    "Bernardo Monteiro Rocha (202410221-26) <br> \n",
    "Viviane Bastos de Oliveira Moura (202411001-00) <br> \n",
    "Fernando Chahine Barros (202410631-59) <br> \n",
    "Rodrigo Ferreira Freire de Souza (202410031-72) <br> "
   ]
  },
  {
   "cell_type": "code",
   "execution_count": null,
   "id": "b31471e3",
   "metadata": {},
   "outputs": [],
   "source": []
  }
 ],
 "metadata": {
  "kernelspec": {
   "display_name": "Python 3 (ipykernel)",
   "language": "python",
   "name": "python3"
  },
  "language_info": {
   "codemirror_mode": {
    "name": "ipython",
    "version": 3
   },
   "file_extension": ".py",
   "mimetype": "text/x-python",
   "name": "python",
   "nbconvert_exporter": "python",
   "pygments_lexer": "ipython3",
   "version": "3.11.3"
  }
 },
 "nbformat": 4,
 "nbformat_minor": 5
}
